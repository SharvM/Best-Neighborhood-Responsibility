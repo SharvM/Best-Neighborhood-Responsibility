{
 "cells": [
  {
   "cell_type": "markdown",
   "id": "9f6af767-ff9a-4345-af80-6bd10d8659e8",
   "metadata": {},
   "source": [
    "#### **Non-Traffic Violation Data**"
   ]
  },
  {
   "cell_type": "code",
   "execution_count": 2,
   "id": "f0cacf90-551d-4673-a84c-8a81b848a663",
   "metadata": {},
   "outputs": [],
   "source": [
    "import pandas as pd\n",
    "\n",
    "data = pd.read_csv(\"violations.tsv\", sep = \"\\t\")"
   ]
  },
  {
   "cell_type": "markdown",
   "id": "21ff9d0c-573c-4b11-b6ec-e9be4197fce6",
   "metadata": {},
   "source": [
    "Below is a dictionary of neighborhoods and the number of non-traffic violations in those neighborhoods."
   ]
  },
  {
   "cell_type": "code",
   "execution_count": 3,
   "id": "a1c78b8e-599f-41bc-8764-a40314492b73",
   "metadata": {},
   "outputs": [
    {
     "data": {
      "text/plain": [
       "{'North Oakland': 199,\n",
       " 'Allegheny Center': 157,\n",
       " 'Homewood South': 227,\n",
       " 'Upper Lawrenceville': 35,\n",
       " 'Golden Triangle/Civic Arena': 42,\n",
       " 'Lower Lawrenceville': 31,\n",
       " 'South Side Flats': 3453,\n",
       " 'East Liberty': 258,\n",
       " 'Point Breeze': 51,\n",
       " 'Central Oakland': 665,\n",
       " 'Brookline': 310,\n",
       " 'Beechview': 153,\n",
       " 'Bluff': 147,\n",
       " 'Hazelwood': 285,\n",
       " 'Overbrook': 58,\n",
       " 'Knoxville': 247,\n",
       " 'Glen Hazel': 33,\n",
       " 'Carrick': 456,\n",
       " 'Northview Heights': 70,\n",
       " 'Strip District': 101,\n",
       " 'Friendship': 17,\n",
       " 'Arlington': 102,\n",
       " 'Lincoln-Lemington-Belmar': 155,\n",
       " 'East Allegheny': 360,\n",
       " 'Squirrel Hill North': 173,\n",
       " 'East Hills': 155,\n",
       " 'Shadyside': 304,\n",
       " 'Crawford-Roberts': 102,\n",
       " 'Marshall-Shadeland': 129,\n",
       " 'North Shore': 577,\n",
       " 'Elliott': 134,\n",
       " 'Homewood West': 58,\n",
       " 'Chateau': 66,\n",
       " 'Greenfield': 155,\n",
       " 'Allentown': 191,\n",
       " 'South Oakland': 132,\n",
       " 'South Side Slopes': 188,\n",
       " 'Bloomfield': 149,\n",
       " 'Spring Hill-City View': 55,\n",
       " 'California-Kirkbride': 35,\n",
       " 'West Oakland': 63,\n",
       " nan: 916,\n",
       " 'Larimer': 160,\n",
       " 'Mount Washington': 329,\n",
       " 'South Shore': 52,\n",
       " 'Brighton Heights': 150,\n",
       " 'Upper Hill': 26,\n",
       " 'Sheraden': 265,\n",
       " 'Beltzhoover': 78,\n",
       " 'Westwood': 36,\n",
       " 'Squirrel Hill South': 272,\n",
       " 'East Carnegie': 22,\n",
       " 'Terrace Village': 39,\n",
       " 'Perry South': 85,\n",
       " 'Morningside': 24,\n",
       " 'Allegheny West': 24,\n",
       " 'Mt. Oliver Neighborhood': 4,\n",
       " 'Central Lawrenceville': 149,\n",
       " 'Fairywood': 14,\n",
       " 'West End': 31,\n",
       " 'Fineview': 39,\n",
       " 'Central Business District': 2027,\n",
       " 'Garfield': 106,\n",
       " 'Central North Side': 140,\n",
       " 'Bedford Dwellings': 69,\n",
       " 'New Homestead': 8,\n",
       " 'Polish Hill': 18,\n",
       " 'Crafton Heights': 64,\n",
       " 'Spring Garden': 10,\n",
       " 'Banksville': 39,\n",
       " 'Swisshelm Park': 6,\n",
       " 'Middle Hill': 106,\n",
       " 'Stanton Heights': 28,\n",
       " 'Point Breeze North': 48,\n",
       " 'Lincoln Place': 41,\n",
       " 'Homewood North': 207,\n",
       " 'Troy Hill': 51,\n",
       " 'Highland Park': 51,\n",
       " 'Hays': 9,\n",
       " 'Manchester': 35,\n",
       " 'Esplen': 29,\n",
       " 'Bon Air': 25,\n",
       " 'Perry North': 53,\n",
       " 'Mount Oliver': 28,\n",
       " 'Regent Square': 9,\n",
       " 'Duquesne Heights': 21,\n",
       " 'Windgap': 17,\n",
       " 'Ridgemont': 4,\n",
       " 'Summer Hill': 7,\n",
       " 'Arlington Heights': 7,\n",
       " 'St. Clair': 3,\n",
       " 'Outside City': 9,\n",
       " 'Unable To Retrieve Address': 7,\n",
       " 'Outside State': 2,\n",
       " 'Oakwood': 10,\n",
       " 'Mt. Oliver Boro': 3,\n",
       " 'Chartiers City': 3,\n",
       " 'Outside County': 2}"
      ]
     },
     "execution_count": 3,
     "metadata": {},
     "output_type": "execute_result"
    }
   ],
   "source": [
    "ref_data = pd.DataFrame({'NEIGHBORHOOD': data['NEIGHBORHOOD']})\n",
    "location_counts = dict()\n",
    "\n",
    "for index, row in ref_data.iterrows():\n",
    "    loc = row['NEIGHBORHOOD']\n",
    "    if loc in location_counts:\n",
    "        location_counts[loc] += 1\n",
    "    else:\n",
    "        location_counts[loc] = 1\n",
    "\n",
    "location_counts"
   ]
  },
  {
   "cell_type": "markdown",
   "id": "e8a5c8d7-f5fc-4ade-8ff0-36393ec495d6",
   "metadata": {},
   "source": [
    "Southside Flats, Central Business Distric, and Central Oakland have the highest number of non-traffic violations"
   ]
  },
  {
   "cell_type": "code",
   "execution_count": null,
   "id": "399b9713-6487-4c97-b448-11ff9443c093",
   "metadata": {},
   "outputs": [],
   "source": []
  }
 ],
 "metadata": {
  "kernelspec": {
   "display_name": "Python 3 (ipykernel)",
   "language": "python",
   "name": "python3"
  },
  "language_info": {
   "codemirror_mode": {
    "name": "ipython",
    "version": 3
   },
   "file_extension": ".py",
   "mimetype": "text/x-python",
   "name": "python",
   "nbconvert_exporter": "python",
   "pygments_lexer": "ipython3",
   "version": "3.11.5"
  }
 },
 "nbformat": 4,
 "nbformat_minor": 5
}
