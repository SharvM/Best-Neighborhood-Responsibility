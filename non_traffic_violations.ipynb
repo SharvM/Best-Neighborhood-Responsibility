{
 "cells": [
  {
   "cell_type": "markdown",
   "id": "f1863c7e-1698-4032-b9a0-796fe492bd31",
   "metadata": {},
   "source": [
    "#### **Non-Traffic Violation Data**"
   ]
  },
  {
   "cell_type": "code",
   "execution_count": 1,
   "id": "5ab13739-2ed0-4bd8-9b5c-7ca34757c060",
   "metadata": {},
   "outputs": [],
   "source": [
    "import pandas as pd\n",
    "\n",
    "data = pd.read_csv(\"violations.tsv\", sep = \"\\t\")\n"
   ]
  },
  {
   "cell_type": "markdown",
   "id": "16b41e43-d3eb-4ab1-96a1-ec8ba639e50a",
   "metadata": {},
   "source": [
    "Below is a dictionary of neighborhoods and the number of non-traffic violations in those neighborhoods."
   ]
  },
  {
   "cell_type": "code",
   "execution_count": 3,
   "id": "6828bf54-9c76-4fbc-a9de-e6556a97b45b",
   "metadata": {},
   "outputs": [
    {
     "data": {
      "text/plain": [
       "{'North Oakland': 199,\n",
       " 'Allegheny Center': 157,\n",
       " 'Homewood South': 227,\n",
       " 'Upper Lawrenceville': 35,\n",
       " 'Golden Triangle/Civic Arena': 42,\n",
       " 'Lower Lawrenceville': 31,\n",
       " 'South Side Flats': 3453,\n",
       " 'East Liberty': 258,\n",
       " 'Point Breeze': 51,\n",
       " 'Central Oakland': 665,\n",
       " 'Brookline': 310,\n",
       " 'Beechview': 153,\n",
       " 'Bluff': 147,\n",
       " 'Hazelwood': 285,\n",
       " 'Overbrook': 58,\n",
       " 'Knoxville': 247,\n",
       " 'Glen Hazel': 33,\n",
       " 'Carrick': 456,\n",
       " 'Northview Heights': 70,\n",
       " 'Strip District': 101,\n",
       " 'Friendship': 17,\n",
       " 'Arlington': 102,\n",
       " 'Lincoln-Lemington-Belmar': 155,\n",
       " 'East Allegheny': 360,\n",
       " 'Squirrel Hill North': 173,\n",
       " 'East Hills': 155,\n",
       " 'Shadyside': 304,\n",
       " 'Crawford-Roberts': 102,\n",
       " 'Marshall-Shadeland': 129,\n",
       " 'North Shore': 577,\n",
       " 'Elliott': 134,\n",
       " 'Homewood West': 58,\n",
       " 'Chateau': 66,\n",
       " 'Greenfield': 155,\n",
       " 'Allentown': 191,\n",
       " 'South Oakland': 132,\n",
       " 'South Side Slopes': 188,\n",
       " 'Bloomfield': 149,\n",
       " 'Spring Hill-City View': 55,\n",
       " 'California-Kirkbride': 35,\n",
       " 'West Oakland': 63,\n",
       " nan: 916,\n",
       " 'Larimer': 160,\n",
       " 'Mount Washington': 329,\n",
       " 'South Shore': 52,\n",
       " 'Brighton Heights': 150,\n",
       " 'Upper Hill': 26,\n",
       " 'Sheraden': 265,\n",
       " 'Beltzhoover': 78,\n",
       " 'Westwood': 36,\n",
       " 'Squirrel Hill South': 272,\n",
       " 'East Carnegie': 22,\n",
       " 'Terrace Village': 39,\n",
       " 'Perry South': 85,\n",
       " 'Morningside': 24,\n",
       " 'Allegheny West': 24,\n",
       " 'Mt. Oliver Neighborhood': 4,\n",
       " 'Central Lawrenceville': 149,\n",
       " 'Fairywood': 14,\n",
       " 'West End': 31,\n",
       " 'Fineview': 39,\n",
       " 'Central Business District': 2027,\n",
       " 'Garfield': 106,\n",
       " 'Central North Side': 140,\n",
       " 'Bedford Dwellings': 69,\n",
       " 'New Homestead': 8,\n",
       " 'Polish Hill': 18,\n",
       " 'Crafton Heights': 64,\n",
       " 'Spring Garden': 10,\n",
       " 'Banksville': 39,\n",
       " 'Swisshelm Park': 6,\n",
       " 'Middle Hill': 106,\n",
       " 'Stanton Heights': 28,\n",
       " 'Point Breeze North': 48,\n",
       " 'Lincoln Place': 41,\n",
       " 'Homewood North': 207,\n",
       " 'Troy Hill': 51,\n",
       " 'Highland Park': 51,\n",
       " 'Hays': 9,\n",
       " 'Manchester': 35,\n",
       " 'Esplen': 29,\n",
       " 'Bon Air': 25,\n",
       " 'Perry North': 53,\n",
       " 'Mount Oliver': 28,\n",
       " 'Regent Square': 9,\n",
       " 'Duquesne Heights': 21,\n",
       " 'Windgap': 17,\n",
       " 'Ridgemont': 4,\n",
       " 'Summer Hill': 7,\n",
       " 'Arlington Heights': 7,\n",
       " 'St. Clair': 3,\n",
       " 'Outside City': 9,\n",
       " 'Unable To Retrieve Address': 7,\n",
       " 'Outside State': 2,\n",
       " 'Oakwood': 10,\n",
       " 'Mt. Oliver Boro': 3,\n",
       " 'Chartiers City': 3,\n",
       " 'Outside County': 2}"
      ]
     },
     "execution_count": 3,
     "metadata": {},
     "output_type": "execute_result"
    }
   ],
   "source": [
    "ref_data = pd.DataFrame({'NEIGHBORHOOD': data['NEIGHBORHOOD']})\n",
    "location_counts = dict()\n",
    "\n",
    "for index, row in ref_data.iterrows():\n",
    "    loc = row['NEIGHBORHOOD']\n",
    "    if loc in location_counts:\n",
    "        location_counts[loc] += 1\n",
    "    else:\n",
    "        location_counts[loc] = 1\n",
    "\n",
    "location_counts\n"
   ]
  },
  {
   "cell_type": "code",
   "execution_count": null,
   "id": "99ebad2c-b78d-48c6-b838-3ab75dcfb40b",
   "metadata": {},
   "outputs": [],
   "source": []
  }
 ],
 "metadata": {
  "kernelspec": {
   "display_name": "Python 3 (ipykernel)",
   "language": "python",
   "name": "python3"
  },
  "language_info": {
   "codemirror_mode": {
    "name": "ipython",
    "version": 3
   },
   "file_extension": ".py",
   "mimetype": "text/x-python",
   "name": "python",
   "nbconvert_exporter": "python",
   "pygments_lexer": "ipython3",
   "version": "3.11.5"
  }
 },
 "nbformat": 4,
 "nbformat_minor": 5
}
