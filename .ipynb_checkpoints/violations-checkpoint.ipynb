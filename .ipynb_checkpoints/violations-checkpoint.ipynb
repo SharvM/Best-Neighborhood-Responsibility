{
 "cells": [
  {
   "cell_type": "markdown",
   "id": "9f6af767-ff9a-4345-af80-6bd10d8659e8",
   "metadata": {},
   "source": [
    "#### **Non-Traffic Violation Data**"
   ]
  },
  {
   "cell_type": "code",
   "execution_count": 2,
   "id": "f0cacf90-551d-4673-a84c-8a81b848a663",
   "metadata": {},
   "outputs": [],
   "source": [
    "import pandas as pd\n",
    "import matplotlib.pyplot as plt\n",
    "\n",
    "data = pd.read_csv(\"violations.tsv\", sep = \"\\t\")"
   ]
  },
  {
   "cell_type": "markdown",
   "id": "21ff9d0c-573c-4b11-b6ec-e9be4197fce6",
   "metadata": {},
   "source": [
    "Below is a dictionary of neighborhoods and the number of non-traffic violations in those neighborhoods."
   ]
  },
  {
   "cell_type": "code",
   "execution_count": 3,
   "id": "a1c78b8e-599f-41bc-8764-a40314492b73",
   "metadata": {},
   "outputs": [
    {
     "data": {
      "text/plain": [
       "{'North Oakland': 199,\n",
       " 'Allegheny Center': 157,\n",
       " 'Homewood South': 227,\n",
       " 'Upper Lawrenceville': 35,\n",
       " 'Golden Triangle/Civic Arena': 42,\n",
       " 'Lower Lawrenceville': 31,\n",
       " 'South Side Flats': 3453,\n",
       " 'East Liberty': 258,\n",
       " 'Point Breeze': 51,\n",
       " 'Central Oakland': 665,\n",
       " 'Brookline': 310,\n",
       " 'Beechview': 153,\n",
       " 'Bluff': 147,\n",
       " 'Hazelwood': 285,\n",
       " 'Overbrook': 58,\n",
       " 'Knoxville': 247,\n",
       " 'Glen Hazel': 33,\n",
       " 'Carrick': 456,\n",
       " 'Northview Heights': 70,\n",
       " 'Strip District': 101,\n",
       " 'Friendship': 17,\n",
       " 'Arlington': 102,\n",
       " 'Lincoln-Lemington-Belmar': 155,\n",
       " 'East Allegheny': 360,\n",
       " 'Squirrel Hill North': 173,\n",
       " 'East Hills': 155,\n",
       " 'Shadyside': 304,\n",
       " 'Crawford-Roberts': 102,\n",
       " 'Marshall-Shadeland': 129,\n",
       " 'North Shore': 577,\n",
       " 'Elliott': 134,\n",
       " 'Homewood West': 58,\n",
       " 'Chateau': 66,\n",
       " 'Greenfield': 155,\n",
       " 'Allentown': 191,\n",
       " 'South Oakland': 132,\n",
       " 'South Side Slopes': 188,\n",
       " 'Bloomfield': 149,\n",
       " 'Spring Hill-City View': 55,\n",
       " 'California-Kirkbride': 35,\n",
       " 'West Oakland': 63,\n",
       " 'Larimer': 160,\n",
       " 'Mount Washington': 329,\n",
       " 'South Shore': 52,\n",
       " 'Brighton Heights': 150,\n",
       " 'Upper Hill': 26,\n",
       " 'Sheraden': 265,\n",
       " 'Beltzhoover': 78,\n",
       " 'Westwood': 36,\n",
       " 'Squirrel Hill South': 272,\n",
       " 'East Carnegie': 22,\n",
       " 'Terrace Village': 39,\n",
       " 'Perry South': 85,\n",
       " 'Morningside': 24,\n",
       " 'Allegheny West': 24,\n",
       " 'Mt. Oliver Neighborhood': 4,\n",
       " 'Central Lawrenceville': 149,\n",
       " 'Fairywood': 14,\n",
       " 'West End': 31,\n",
       " 'Fineview': 39,\n",
       " 'Central Business District': 2027,\n",
       " 'Garfield': 106,\n",
       " 'Central North Side': 140,\n",
       " 'Bedford Dwellings': 69,\n",
       " 'New Homestead': 8,\n",
       " 'Polish Hill': 18,\n",
       " 'Crafton Heights': 64,\n",
       " 'Spring Garden': 10,\n",
       " 'Banksville': 39,\n",
       " 'Swisshelm Park': 6,\n",
       " 'Middle Hill': 106,\n",
       " 'Stanton Heights': 28,\n",
       " 'Point Breeze North': 48,\n",
       " 'Lincoln Place': 41,\n",
       " 'Homewood North': 207,\n",
       " 'Troy Hill': 51,\n",
       " 'Highland Park': 51,\n",
       " 'Hays': 9,\n",
       " 'Manchester': 35,\n",
       " 'Esplen': 29,\n",
       " 'Bon Air': 25,\n",
       " 'Perry North': 53,\n",
       " 'Mount Oliver': 28,\n",
       " 'Regent Square': 9,\n",
       " 'Duquesne Heights': 21,\n",
       " 'Windgap': 17,\n",
       " 'Ridgemont': 4,\n",
       " 'Summer Hill': 7,\n",
       " 'Arlington Heights': 7,\n",
       " 'St. Clair': 3,\n",
       " 'Outside City': 9,\n",
       " 'Unable To Retrieve Address': 7,\n",
       " 'Outside State': 2,\n",
       " 'Oakwood': 10,\n",
       " 'Mt. Oliver Boro': 3,\n",
       " 'Chartiers City': 3,\n",
       " 'Outside County': 2}"
      ]
     },
     "execution_count": 3,
     "metadata": {},
     "output_type": "execute_result"
    }
   ],
   "source": [
    "ref_data = pd.DataFrame({'NEIGHBORHOOD': data['NEIGHBORHOOD']})\n",
    "clean_data = ref_data[ref_data['NEIGHBORHOOD'].notna()]\n",
    "clean_data[clean_data['NEIGHBORHOOD'] != \"Outside City\"]\n",
    "location_counts = dict()\n",
    "\n",
    "for index, row in clean_data.iterrows():\n",
    "    loc = row['NEIGHBORHOOD']\n",
    "    if loc in location_counts:\n",
    "        location_counts[loc] += 1\n",
    "    else:\n",
    "        location_counts[loc] = 1\n",
    "\n",
    "location_counts"
   ]
  },
  {
   "cell_type": "markdown",
   "id": "e8a5c8d7-f5fc-4ade-8ff0-36393ec495d6",
   "metadata": {},
   "source": [
    "Southside Flats, Central Business Distric, and Central Oakland have the highest number of non-traffic violations"
   ]
  },
  {
   "cell_type": "code",
   "execution_count": 4,
   "id": "41c87d6f-c00b-48af-9a4b-0a24a4f272fc",
   "metadata": {},
   "outputs": [],
   "source": [
    "violation_counts = clean_data['NEIGHBORHOOD'].value_counts().reset_index()\n",
    "violation_counts.columns = ['Neighborhood', 'Violation Count']"
   ]
  },
  {
   "cell_type": "code",
   "execution_count": 1,
   "id": "247634bd-bad0-4fc0-8c01-01e51c571389",
   "metadata": {},
   "outputs": [
    {
     "ename": "NameError",
     "evalue": "name 'violation_counts' is not defined",
     "output_type": "error",
     "traceback": [
      "\u001b[0;31m---------------------------------------------------------------------------\u001b[0m",
      "\u001b[0;31mNameError\u001b[0m                                 Traceback (most recent call last)",
      "Cell \u001b[0;32mIn[1], line 1\u001b[0m\n\u001b[0;32m----> 1\u001b[0m top_10 \u001b[38;5;241m=\u001b[39m violation_counts\u001b[38;5;241m.\u001b[39mhead(\u001b[38;5;241m10\u001b[39m)\n\u001b[1;32m      3\u001b[0m plt\u001b[38;5;241m.\u001b[39mfigure(figsize\u001b[38;5;241m=\u001b[39m(\u001b[38;5;241m10\u001b[39m,\u001b[38;5;241m6\u001b[39m))\n\u001b[1;32m      4\u001b[0m plt\u001b[38;5;241m.\u001b[39mbar(top_10[\u001b[38;5;124m'\u001b[39m\u001b[38;5;124mNeighborhood\u001b[39m\u001b[38;5;124m'\u001b[39m], top_10[\u001b[38;5;124m'\u001b[39m\u001b[38;5;124mViolation Count\u001b[39m\u001b[38;5;124m'\u001b[39m], color\u001b[38;5;241m=\u001b[39m\u001b[38;5;124m'\u001b[39m\u001b[38;5;124mblue\u001b[39m\u001b[38;5;124m'\u001b[39m)\n",
      "\u001b[0;31mNameError\u001b[0m: name 'violation_counts' is not defined"
     ]
    }
   ],
   "source": [
    "top_10 = violation_counts.head(10)\n",
    "\n",
    "plt.figure(figsize=(10,6))\n",
    "plt.bar(top_10['Neighborhood'], top_10['Violation Count'], color='blue')\n",
    "plt.title(\"Top 10 Neighborhoods by Non-Traffic Violations\")\n",
    "plt.xlabel(\"Neighborhood\")\n",
    "plt.ylabel(\"Violation Count\")\n",
    "plt.xticks(rotation=45, ha='right')  # Optional: improves label readability\n",
    "plt.tight_layout()\n",
    "plt.show()"
   ]
  },
  {
   "cell_type": "markdown",
   "id": "f555bbbb-45f4-4574-989b-5e5dd35966c0",
   "metadata": {},
   "source": [
    "### PERSONAL CONCLUSION:\n",
    "Based off of my analysis, Ridgemont proves to be the most responsible neighborhood when it comes to Non-Traffic Violations. On the other hand, the least responsible neighborhood when it comes to Non-Traffic Violations is South Side Flats. There is a drastic difference between both as Ridgemont has 4 non-traffic violations, whereas the South Side Flats has 3453 non-traffic violations. The differences can be attributed to population and significance to the city. "
   ]
  },
  {
   "cell_type": "code",
   "execution_count": null,
   "id": "3970e60c-bc09-43c6-b33a-8a938016aca1",
   "metadata": {},
   "outputs": [],
   "source": []
  }
 ],
 "metadata": {
  "kernelspec": {
   "display_name": "Python 3 (ipykernel)",
   "language": "python",
   "name": "python3"
  },
  "language_info": {
   "codemirror_mode": {
    "name": "ipython",
    "version": 3
   },
   "file_extension": ".py",
   "mimetype": "text/x-python",
   "name": "python",
   "nbconvert_exporter": "python",
   "pygments_lexer": "ipython3",
   "version": "3.11.5"
  }
 },
 "nbformat": 4,
 "nbformat_minor": 5
}
